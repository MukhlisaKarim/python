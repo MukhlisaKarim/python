{
 "cells": [
  {
   "cell_type": "code",
   "execution_count": null,
   "metadata": {},
   "outputs": [],
   "source": [
    "n1=int(input('enter 1st number'))\n",
    "n2=int(input('enter 2nd number'))\n",
    "n3=int(input('enter 3rd number'))\n",
    "\n",
    "\n",
    "\n",
    "if (n1>n2 and n1<n3) or (n1<n2 and n1>n3):\n",
    "    print(n1)\n",
    "if (n2>n1 and n2<n3) or (n2<n1 and n2>n3):\n",
    "    print(n2) \n",
    "if (n3>n2 and n3<n1) or (n3<n2 and n3>n1):\n",
    "    print(n3) "
   ]
  },
  {
   "cell_type": "code",
   "execution_count": null,
   "metadata": {},
   "outputs": [],
   "source": []
  }
 ],
 "metadata": {
  "kernelspec": {
   "display_name": "Python 3",
   "language": "python",
   "name": "python3"
  },
  "language_info": {
   "name": "python",
   "version": "3.13.2"
  }
 },
 "nbformat": 4,
 "nbformat_minor": 2
}
