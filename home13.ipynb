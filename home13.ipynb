{
 "cells": [
  {
   "cell_type": "code",
   "execution_count": null,
   "metadata": {},
   "outputs": [
    {
     "name": "stdout",
     "output_type": "stream",
     "text": [
      "You are 26 years, 10 months, and 26 days old.\n"
     ]
    }
   ],
   "source": [
    "#1 calculating age\n",
    "\n",
    "from datetime import datetime, date\n",
    "\n",
    "def age_details(dob):\n",
    "    today = date.today()\n",
    "    years = today.year - dob.year\n",
    "    months = today.month - dob.month\n",
    "    days = today.day - dob.day\n",
    "\n",
    "    if days < 0:\n",
    "        months -= 1\n",
    "        days += 30  \n",
    "\n",
    "    if months < 0:\n",
    "        years -= 1\n",
    "        months += 12\n",
    "\n",
    "    return years, months, days  \n",
    "\n",
    "age = input(\"Enter your birth date as DD-MM-YYYY: \")\n",
    "\n",
    "\n",
    "dob = datetime.strptime(age, \"%d-%m-%Y\").date()\n",
    "\n",
    "\n",
    "years1, months1, days1 = age_details(dob)\n",
    "\n",
    "print(f\"You are {years1} years, {months1} months, and {days1} days old.\")\n"
   ]
  },
  {
   "cell_type": "code",
   "execution_count": 9,
   "metadata": {},
   "outputs": [
    {
     "name": "stdout",
     "output_type": "stream",
     "text": [
      "Your next birthday is in 35 days! 🎉\n"
     ]
    }
   ],
   "source": [
    "#2 Days Until Next Birthday:\n",
    "from datetime import datetime, date\n",
    "\n",
    "def days_until_next_birthday(dob):\n",
    "    today = date.today()\n",
    "    next_birthday = date(today.year, dob.month, dob.day)  \n",
    "\n",
    "    if next_birthday < today:\n",
    "        next_birthday = date(today.year + 1, dob.month, dob.day)\n",
    "\n",
    "    days_remaining = (next_birthday - today).days\n",
    "    return days_remaining\n",
    "\n",
    "\n",
    "dob_str = input(\"Please enter your birth date as DD-MM-YYYY: \")\n",
    "dob = datetime.strptime(dob_str, \"%d-%m-%Y\").date() \n",
    "\n",
    "\n",
    "days_left = days_until_next_birthday(dob)\n",
    "\n",
    "print(f\"Your next birthday is in {days_left} days! \")\n"
   ]
  },
  {
   "cell_type": "code",
   "execution_count": 12,
   "metadata": {},
   "outputs": [
    {
     "name": "stdout",
     "output_type": "stream",
     "text": [
      "The meeting will end on 13-03-2025 at 13:45.\n"
     ]
    }
   ],
   "source": [
    "#3 meeting duration\n",
    "\n",
    "from datetime import datetime, timedelta\n",
    "\n",
    "current_datetime_str = input(\"Please enter current date and time (DD-MM-YYYY HH:MM): \")\n",
    "current_datetime = datetime.strptime(current_datetime_str, \"%d-%m-%Y %H:%M\")  \n",
    "\n",
    "\n",
    "hours = int(input(\"Enter meeting duration (hours): \"))\n",
    "minutes = int(input(\"Enter the duration of meeting (minutes): \")) \n",
    "\n",
    "meeting_duration = timedelta(hours=hours, minutes=minutes)  \n",
    "end_datetime = current_datetime + meeting_duration\n",
    "\n",
    "print(f\"The meeting will end on {end_datetime.strftime('%d-%m-%Y at %H:%M')}.\")\n"
   ]
  },
  {
   "cell_type": "code",
   "execution_count": null,
   "metadata": {},
   "outputs": [],
   "source": [
    "###4Timezone Converter: Create a program that allows the user to enter a date and time along with their current timezone, and then convert and print the date and time in another timezone of their choice. \n",
    "\n",
    "from datetime import datetime\n",
    "import pytz\n",
    "london_tz = pytz.timezone(\"Europe/London\")\n",
    "tashkent_tz = pytz.timezone(\"Asia/Tashkent\")\n",
    "\n",
    "def convert_timezone(date_str, time_str, current_timezone, target_timezone):\n",
    "    date_time_str = f\"{date_str} {time_str}\"\n",
    "    fmt = \"%Y-%m-%d %H:%M:%S\"\n",
    "    naive_datetime = datetime.strptime(date_time_str,fmt)\n",
    "\n",
    "    current_tz = pytz.timezone(current_timezone)\n",
    "    local_datetime = current_tz.localize(naive_datetime)\n",
    "\n",
    "    target_tz = pytz.timezone(target_timezone)\n",
    "    target_datetime = local_datetime.astimezone(target_tz)\n",
    "\n",
    "    return target_datetime     \n",
    "print(\"Timezone Converter\")\n",
    "date = input(\"Enter the date (YYYY-MM-DD): \")\n",
    "time = input(\"Enter the time (HH:MM:SS): \")\n",
    "current_timezone = input(\"Enter your current timezone\")\n",
    "target_timezone = input(\"Enter the target timezone\")\n",
    "\n",
    "converted_time = convert_timezone(date,time,current_timezone,target_timezone)\n",
    "print(f\"The converted time in {target_timezone} is: {converted_time.strftime('%Y-%m-%d %H:%M:%S')}\")\n"
   ]
  },
  {
   "cell_type": "code",
   "execution_count": null,
   "metadata": {},
   "outputs": [],
   "source": [
    "###5Countdown Timer: Implement a countdown timer. Ask the user to input a future date and time, and then continuously print the time remaining until that point in regular intervals (e.g., every second).\n",
    "\n",
    "import time\n",
    "from datetime import datetime\n",
    "\n",
    "def countdown_timer(future_time):\n",
    "    while True:\n",
    "     \n",
    "        current_time = datetime.now()\n",
    "\n",
    "        remaining_time = future_time - current_time\n",
    "\n",
    "\n",
    "        if remaining_time.total_seconds() <= 0:\n",
    "            print(\"The countdown is complete!\")\n",
    "            break\n",
    "        \n",
    "  \n",
    "        hours = remaining_time.seconds // 3600\n",
    "        minutes = (remaining_time.seconds % 3600) // 60\n",
    "        seconds = remaining_time.seconds % 60\n",
    "\n",
    "\n",
    "        print(f\"Time remaining: {hours:02}:{minutes:02}:{seconds:02}\", end='\\r')\n",
    "\n",
    "\n",
    "        time.sleep(1)\n",
    "\n",
    "\n",
    "future_date_str = input(\"Enter the future date and time (YYYY-MM-DD HH:MM:SS): \")\n",
    "\n",
    "\n",
    "future_time = datetime.strptime(future_date_str, \"%Y-%m-%d %H:%M:%S\")\n",
    "\n",
    "\n",
    "countdown_timer(future_time)"
   ]
  },
  {
   "cell_type": "code",
   "execution_count": null,
   "metadata": {},
   "outputs": [],
   "source": [
    "##Email Validator: Write a program that validates email addresses. Ask the user to input an email address, and check if it follows a valid email format.\n",
    "\n",
    "import re\n",
    "\n",
    "def is_valid_email(email):\n",
    "    pattern = r'^[a-zA-Z0-9._%+-]+@[a-zA-Z0-9.-]+\\.[a-zA-Z]{2,}$'\n",
    "    return re.match(pattern, email) is not None\n",
    "\n",
    "email = input(\"Enter an email address: \")\n",
    "\n",
    "if is_valid_email(email):\n",
    "    print(\"Valid email address \")\n",
    "else:\n",
    "    print(\"Invalid email address \")"
   ]
  },
  {
   "cell_type": "code",
   "execution_count": 23,
   "metadata": {},
   "outputs": [
    {
     "name": "stdout",
     "output_type": "stream",
     "text": [
      "Formatted phone number:invalid number\n"
     ]
    }
   ],
   "source": [
    "#7 Phone Number Formatter:\n",
    "import re\n",
    "def format_phone_number(phone):\n",
    "    phone=re.sub(r\"\\D\",\"\",phone)\n",
    "    if len(phone) ==12:\n",
    "        formatted_number=f'+({phone[:3]}) {phone[3:5]} {phone[5:]}'\n",
    "    else: \n",
    "        return 'invalid number'\n",
    "    return formatted_number\n",
    "\n",
    "phone_number= input('please enter 12 digit number')\n",
    "\n",
    "formatted=format_phone_number(phone_number)\n",
    "\n",
    "print(f'Formatted phone number:{formatted}')\n",
    "\n"
   ]
  },
  {
   "cell_type": "code",
   "execution_count": 26,
   "metadata": {},
   "outputs": [
    {
     "name": "stdout",
     "output_type": "stream",
     "text": [
      "password is accepted\n"
     ]
    }
   ],
   "source": [
    "#8 Password Strength Checker:\n",
    "import re\n",
    "def checK_password(password):\n",
    "    if len(password)<8:\n",
    "        return \"your password should be at least 8 characters\"\n",
    "    if not re.search(r'[A-Z]', password):\n",
    "        return \"add at least one uppercase letter\"\n",
    "    if not re.search(r'[a-z]',password):\n",
    "        return \"add at least one lowercase letter\"\n",
    "    if not re.search(r'\\d',password):\n",
    "        return \"add at least one number\"\n",
    "    if not re.search(r\"[!@#$%^&*(),.?\\\":{}|<>]\", password):\n",
    "        return \"add at least one special character.\"\n",
    "    return 'password is accepted'\n",
    "\n",
    "\n",
    "user_password=input('enter password which is minimum 8 in lenth, contains at least one uppercase letter, one lowercase letter, and one digit')\n",
    "\n",
    "res=checK_password(user_password)\n",
    "\n",
    "print(res)"
   ]
  },
  {
   "cell_type": "code",
   "execution_count": null,
   "metadata": {},
   "outputs": [],
   "source": [
    "#9 Word Finder:\n",
    "\n",
    "import re\n",
    "\n",
    "def find_word_occurrences(text, word):\n",
    "\n",
    "    matches = [(m.start(), m.end()) for m in re.finditer(rf\"\\b{re.escape(word)}\\b\", text, re.IGNORECASE)]\n",
    "\n",
    "    if matches:\n",
    "        print(f\"the word'{word}' was found {len(matches)} time(s). at positions: {matches}\")\n",
    "    else:\n",
    "        print(f\" The word '{word}' was not found in the text.\")\n",
    "\n",
    "\n",
    "sample_text = \"\"\"Python is a powerful programming language. Many developers love Python because of its simplicity and readability.\n",
    "Learning Python can help you in data science, machine learning, and web development.\"\"\"\n",
    "\n",
    "\n",
    "search_word = input(\"Enter the word to search for: \")\n",
    "\n",
    "\n",
    "find_word_occurrences(sample_text, search_word)\n",
    "\n"
   ]
  },
  {
   "cell_type": "code",
   "execution_count": null,
   "metadata": {},
   "outputs": [],
   "source": [
    "##Date Extractor: Write a program that extracts dates from a given text. Ask the user to input a text, and then identify and print all the dates present in the text.\n",
    "\n",
    "import re\n",
    "\n",
    "def extract_dates(text):\n",
    "    date_patterns = [\n",
    "        r'\\b\\d{1,2}/\\d{1,2}/\\d{4}\\b', \n",
    "        r'\\b\\d{1,2}-\\d{1,2}-\\d{4}\\b',\n",
    "        r'\\b\\d{4}/\\d{1,2}/\\d{1,2}\\b',  \n",
    "        r'\\b\\d{4}-\\d{1,2}-\\d{1,2}\\b',  \n",
    "        r'\\b(?:Jan|Feb|Mar|Apr|May|Jun|Jul|Aug|Sep|Oct|Nov|Dec)[a-z]*\\.? \\d{1,2}, \\d{4}\\b',  \n",
    "        r'\\b\\d{1,2} (?:Jan|Feb|Mar|Apr|May|Jun|Jul|Aug|Sep|Oct|Nov|Dec)[a-z]* \\d{4}\\b'  \n",
    "    ]\n",
    "\n",
    "    matches = []\n",
    "    for pattern in date_patterns:\n",
    "        matches.extend(re.findall(pattern, text))\n",
    "\n",
    "    return matches\n",
    "\n",
    "text = input(\"Enter a text containing dates: \")\n",
    "\n",
    "dates = extract_dates(text)\n",
    "if dates:\n",
    "    print(\"Extracted Dates:\", dates)\n",
    "else:\n",
    "    print(\"No dates found in the text.\")"
   ]
  }
 ],
 "metadata": {
  "kernelspec": {
   "display_name": "Python 3",
   "language": "python",
   "name": "python3"
  },
  "language_info": {
   "codemirror_mode": {
    "name": "ipython",
    "version": 3
   },
   "file_extension": ".py",
   "mimetype": "text/x-python",
   "name": "python",
   "nbconvert_exporter": "python",
   "pygments_lexer": "ipython3",
   "version": "3.13.2"
  }
 },
 "nbformat": 4,
 "nbformat_minor": 2
}
